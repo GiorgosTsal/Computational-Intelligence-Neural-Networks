{
  "nbformat": 4,
  "nbformat_minor": 0,
  "metadata": {
    "colab": {
      "name": "instance_segmentation.ipynb",
      "provenance": [],
      "collapsed_sections": []
    },
    "kernelspec": {
      "name": "python3",
      "display_name": "Python 3"
    },
    "accelerator": "GPU"
  },
  "cells": [
    {
      "cell_type": "markdown",
      "metadata": {
        "id": "75krFrw8vKVh",
        "colab_type": "text"
      },
      "source": [
        "# Detectron2\n"
      ]
    },
    {
      "cell_type": "markdown",
      "metadata": {
        "id": "7V3oNTFsvK17",
        "colab_type": "text"
      },
      "source": [
        "# Install dependencies and detectron2"
      ]
    },
    {
      "cell_type": "code",
      "metadata": {
        "id": "vvaPxlKXi6Iu",
        "colab_type": "code",
        "colab": {}
      },
      "source": [
        "# install dependencies\n",
        "!pip install -U torch torchvision cython Pillow==6.2.2\n",
        "!pip install -U 'git+https://github.com/cocodataset/cocoapi.git#subdirectory=PythonAPI'\n",
        "import torch, torchvision\n",
        "torch.__version__\n",
        "!gcc --version\n",
        "# opencv is pre-installed on colab"
      ],
      "execution_count": 0,
      "outputs": []
    },
    {
      "cell_type": "code",
      "metadata": {
        "id": "5cz7ONP3jP71",
        "colab_type": "code",
        "colab": {}
      },
      "source": [
        "!git clone https://github.com/facebookresearch/detectron2 detectron2_repo\n",
        "!pip install -e detectron2_repo"
      ],
      "execution_count": 0,
      "outputs": []
    },
    {
      "cell_type": "markdown",
      "metadata": {
        "id": "y1zjbDJlvOrY",
        "colab_type": "text"
      },
      "source": [
        "# Import libraries"
      ]
    },
    {
      "cell_type": "code",
      "metadata": {
        "id": "lJKnN1Iejngj",
        "colab_type": "code",
        "colab": {}
      },
      "source": [
        "# You may need to restart your runtime prior to this, to let your installation take effect\n",
        "# Some basic setup\n",
        "# Setup detectron2 logger\n",
        "import detectron2\n",
        "from detectron2.utils.logger import setup_logger\n",
        "setup_logger()\n",
        "\n",
        "# import some common libraries\n",
        "import numpy as np\n",
        "import cv2\n",
        "import random\n",
        "from google.colab.patches import cv2_imshow\n",
        "\n",
        "# import some common detectron2 utilities\n",
        "from detectron2 import model_zoo\n",
        "from detectron2.engine import DefaultPredictor\n",
        "from detectron2.config import get_cfg\n",
        "from detectron2.utils.visualizer import Visualizer\n",
        "from detectron2.data import MetadataCatalog"
      ],
      "execution_count": 0,
      "outputs": []
    },
    {
      "cell_type": "markdown",
      "metadata": {
        "id": "8-yasZRIwRD6",
        "colab_type": "text"
      },
      "source": [
        "# Download or import example images"
      ]
    },
    {
      "cell_type": "code",
      "metadata": {
        "id": "lNNOnOa0kEK8",
        "colab_type": "code",
        "colab": {}
      },
      "source": [
        "# #you can either download images or import them from mount\n",
        "\n",
        "!wget https://www.athensguide.com/shopping/ermou-street.jpg -O input.jpg\n",
        "!wget https://hips.hearstapps.com/ghk.h-cdn.co/assets/cm/15/11/54ff82234196d-jws-11-xln.jpg -O input2.jpg\n",
        "!wget https://upload.wikimedia.org/wikipedia/commons/thumb/b/b1/20160516_350_thessaloniki.jpg/1200px-20160516_350_thessaloniki.jpg -O input3.jpg\n",
        "!wget https://www.newsbeast.gr/files/1/2016/02/ortty04.jpg -O input4.jpg\n",
        "!wget https://static.advrider.com/wp-content/uploads/2019/05/6629.jpg -O input5.jpg\n",
        "!wget https://www.tovima.gr/wp-content/uploads/2019/02/01/13425058_h3350765.jpg -O input6.jpg\n",
        "!wget http://athina984.gr/wp-site/wp-content/uploads/2018/11/%CE%B5%CF%81%CE%BC%CE%BF%CF%8D-650x400.jpg -O input7.jpg\n",
        "!wget https://www.thepressroom.gr/sites/default/files/styles/article/public/field/articles/images/ermou.jpg?itok=gFbsu0pn -O input8.jpg\n",
        "!wget https://restaurant.opentable.com/news/wp-content/uploads/sites/100/2015/06/pizzaiolo_6542.jpg -O input9.jpg\n",
        "!wget https://www.roadaffair.com/wp-content/uploads/2019/03/tourists-boat-giethoorn-netherlands-shutterstock_1250302012-1024x683.jpg -O input10.jpg"
      ],
      "execution_count": 0,
      "outputs": []
    },
    {
      "cell_type": "code",
      "metadata": {
        "id": "mzmFqmbttk0s",
        "colab_type": "code",
        "colab": {}
      },
      "source": [
        "#Import them from drive\n",
        "from google.colab import drive\n",
        "drive.mount('/content/gdrive')"
      ],
      "execution_count": 0,
      "outputs": []
    },
    {
      "cell_type": "code",
      "metadata": {
        "id": "t0RHzXBytu7D",
        "colab_type": "code",
        "colab": {}
      },
      "source": [
        "#copy images folder with its files to my dir\n",
        "!cp -rf /content/gdrive/My\\ Drive/detectron2_inputs/* /content/"
      ],
      "execution_count": 0,
      "outputs": []
    },
    {
      "cell_type": "markdown",
      "metadata": {
        "id": "8ITBoTglvFL1",
        "colab_type": "text"
      },
      "source": [
        "# Read and show images"
      ]
    },
    {
      "cell_type": "code",
      "metadata": {
        "id": "LjEMa1X1w8ux",
        "colab_type": "code",
        "colab": {}
      },
      "source": [
        "im = cv2.imread(\"./input.jpg\")\n",
        "im2 = cv2.imread(\"./input2.jpg\")\n",
        "im3 = cv2.imread(\"./input3.jpg\")\n",
        "im4 = cv2.imread(\"./input4.jpg\")\n",
        "im5 = cv2.imread(\"./input5.jpg\")\n",
        "im6 = cv2.imread(\"./input6.jpg\")\n",
        "im7 = cv2.imread(\"./input7.jpg\")\n",
        "im8 = cv2.imread(\"./input8.jpg\")\n",
        "im9 = cv2.imread(\"./input9.jpg\")\n",
        "im10 = cv2.imread(\"./input10.jpg\")"
      ],
      "execution_count": 0,
      "outputs": []
    },
    {
      "cell_type": "code",
      "metadata": {
        "id": "xtGCzlsXuxoh",
        "colab_type": "code",
        "colab": {}
      },
      "source": [
        "print(\"Image 1: \\n\")\n",
        "cv2_imshow(im)\n",
        "print(\"Image 2: \\n\")\n",
        "cv2_imshow(im2)\n",
        "print(\"Image 3: \\n\")\n",
        "cv2_imshow(im3)\n",
        "print(\"Image 4: \\n\")\n",
        "cv2_imshow(im4)\n",
        "print(\"Image 5: \\n\")\n",
        "cv2_imshow(im5)\n",
        "print(\"Image 6: \\n\")\n",
        "cv2_imshow(im6)\n",
        "print(\"Image 7: \\n\")\n",
        "cv2_imshow(im7)\n",
        "print(\"Image 8: \\n\")\n",
        "cv2_imshow(im8)\n",
        "print(\"Image 9: \\n\")\n",
        "cv2_imshow(im9)\n",
        "print(\"Image 10: \\n\")\n",
        "cv2_imshow(im10)"
      ],
      "execution_count": 0,
      "outputs": []
    },
    {
      "cell_type": "markdown",
      "metadata": {
        "id": "jQ62fif8wqUi",
        "colab_type": "text"
      },
      "source": [
        "# Run inference with instance segmentation model"
      ]
    },
    {
      "cell_type": "markdown",
      "metadata": {
        "id": "u9uc__mHwWhI",
        "colab_type": "text"
      },
      "source": [
        ""
      ]
    },
    {
      "cell_type": "code",
      "metadata": {
        "id": "3yyTpZ92kHaj",
        "colab_type": "code",
        "colab": {}
      },
      "source": [
        "cfg = get_cfg()\n",
        "# add project-specific config (e.g., TensorMask) here if you're not running a model in detectron2's core library\n",
        "cfg.merge_from_file(model_zoo.get_config_file(\"COCO-InstanceSegmentation/mask_rcnn_R_50_FPN_3x.yaml\"))\n",
        "cfg.MODEL.ROI_HEADS.SCORE_THRESH_TEST = 0.5  # set threshold for this model\n",
        "# Find a model from detectron2's model zoo. You can either use the https://dl.fbaipublicfiles.... url, or use the detectron2:// shorthand\n",
        "cfg.MODEL.WEIGHTS = \"detectron2://COCO-InstanceSegmentation/mask_rcnn_R_50_FPN_3x/137849600/model_final_f10217.pkl\"\n",
        "predictor = DefaultPredictor(cfg)\n",
        "outputs = predictor(im)\n",
        "outputs2 = predictor(im2)\n",
        "outputs3 = predictor(im3)\n",
        "outputs4 = predictor(im4)\n",
        "outputs5 = predictor(im5)\n",
        "outputs6 = predictor(im6)\n",
        "outputs7 = predictor(im7)\n",
        "outputs8 = predictor(im8)\n",
        "outputs9 = predictor(im9)\n",
        "outputs10 = predictor(im10)"
      ],
      "execution_count": 0,
      "outputs": []
    },
    {
      "cell_type": "code",
      "metadata": {
        "id": "2-w6g0OmkRtc",
        "colab_type": "code",
        "colab": {}
      },
      "source": [
        "# look at the outputs. See https://detectron2.readthedocs.io/tutorials/models.html#model-output-format for specification\n",
        "outputs[\"instances\"].pred_classes\n",
        "outputs[\"instances\"].pred_boxes"
      ],
      "execution_count": 0,
      "outputs": []
    },
    {
      "cell_type": "markdown",
      "metadata": {
        "id": "v0Xtp9saw4wB",
        "colab_type": "text"
      },
      "source": [
        "# Visualize instance segmentation results"
      ]
    },
    {
      "cell_type": "code",
      "metadata": {
        "id": "vttHP7A2oi5e",
        "colab_type": "code",
        "colab": {}
      },
      "source": [
        "# We can use `Visualizer` to draw the predictions on the image.\n",
        "v = Visualizer(im[:, :, ::-1], MetadataCatalog.get(cfg.DATASETS.TRAIN[0]), scale=1.2)\n",
        "v = v.draw_instance_predictions(outputs[\"instances\"].to(\"cpu\"))\n",
        "cv2_imshow(v.get_image()[:, :, ::-1])"
      ],
      "execution_count": 0,
      "outputs": []
    },
    {
      "cell_type": "code",
      "metadata": {
        "id": "LUPiKNGPJ8HH",
        "colab_type": "code",
        "colab": {}
      },
      "source": [
        "# We can use `Visualizer` to draw the predictions on the image.\n",
        "v = Visualizer(im2[:, :, ::-1], MetadataCatalog.get(cfg.DATASETS.TRAIN[0]), scale=1.2)\n",
        "v = v.draw_instance_predictions(outputs2[\"instances\"].to(\"cpu\"))\n",
        "cv2_imshow(v.get_image()[:, :, ::-1])"
      ],
      "execution_count": 0,
      "outputs": []
    },
    {
      "cell_type": "code",
      "metadata": {
        "id": "LGrFAPYVJ8CG",
        "colab_type": "code",
        "colab": {}
      },
      "source": [
        "# We can use `Visualizer` to draw the predictions on the image.\n",
        "v = Visualizer(im3[:, :, ::-1], MetadataCatalog.get(cfg.DATASETS.TRAIN[0]), scale=1.2)\n",
        "v = v.draw_instance_predictions(outputs3[\"instances\"].to(\"cpu\"))\n",
        "cv2_imshow(v.get_image()[:, :, ::-1])"
      ],
      "execution_count": 0,
      "outputs": []
    },
    {
      "cell_type": "code",
      "metadata": {
        "id": "sX3RSTgGJ79f",
        "colab_type": "code",
        "colab": {}
      },
      "source": [
        "# We can use `Visualizer` to draw the predictions on the image.\n",
        "v = Visualizer(im4[:, :, ::-1], MetadataCatalog.get(cfg.DATASETS.TRAIN[0]), scale=1.2)\n",
        "v = v.draw_instance_predictions(outputs4[\"instances\"].to(\"cpu\"))\n",
        "cv2_imshow(v.get_image()[:, :, ::-1])"
      ],
      "execution_count": 0,
      "outputs": []
    },
    {
      "cell_type": "code",
      "metadata": {
        "id": "iEDDs4GdJ74u",
        "colab_type": "code",
        "colab": {}
      },
      "source": [
        "# We can use `Visualizer` to draw the predictions on the image.\n",
        "v = Visualizer(im5[:, :, ::-1], MetadataCatalog.get(cfg.DATASETS.TRAIN[0]), scale=1.2)\n",
        "v = v.draw_instance_predictions(outputs5[\"instances\"].to(\"cpu\"))\n",
        "cv2_imshow(v.get_image()[:, :, ::-1])"
      ],
      "execution_count": 0,
      "outputs": []
    },
    {
      "cell_type": "code",
      "metadata": {
        "id": "mLRCUl8ZJ7z3",
        "colab_type": "code",
        "colab": {}
      },
      "source": [
        "# We can use `Visualizer` to draw the predictions on the image.\n",
        "v = Visualizer(im6[:, :, ::-1], MetadataCatalog.get(cfg.DATASETS.TRAIN[0]), scale=1.2)\n",
        "v = v.draw_instance_predictions(outputs6[\"instances\"].to(\"cpu\"))\n",
        "cv2_imshow(v.get_image()[:, :, ::-1])"
      ],
      "execution_count": 0,
      "outputs": []
    },
    {
      "cell_type": "code",
      "metadata": {
        "id": "auNqGXviJ7uu",
        "colab_type": "code",
        "colab": {}
      },
      "source": [
        "# We can use `Visualizer` to draw the predictions on the image.\n",
        "v = Visualizer(im7[:, :, ::-1], MetadataCatalog.get(cfg.DATASETS.TRAIN[0]), scale=1.2)\n",
        "v = v.draw_instance_predictions(outputs7[\"instances\"].to(\"cpu\"))\n",
        "cv2_imshow(v.get_image()[:, :, ::-1])"
      ],
      "execution_count": 0,
      "outputs": []
    },
    {
      "cell_type": "code",
      "metadata": {
        "id": "ENr9dkfbJ7pN",
        "colab_type": "code",
        "colab": {}
      },
      "source": [
        "# We can use `Visualizer` to draw the predictions on the image.\n",
        "v = Visualizer(im8[:, :, ::-1], MetadataCatalog.get(cfg.DATASETS.TRAIN[0]), scale=1.2)\n",
        "v = v.draw_instance_predictions(outputs8[\"instances\"].to(\"cpu\"))\n",
        "cv2_imshow(v.get_image()[:, :, ::-1])"
      ],
      "execution_count": 0,
      "outputs": []
    },
    {
      "cell_type": "code",
      "metadata": {
        "id": "OnTu_sMsJ7j2",
        "colab_type": "code",
        "colab": {}
      },
      "source": [
        "# We can use `Visualizer` to draw the predictions on the image.\n",
        "v = Visualizer(im9[:, :, ::-1], MetadataCatalog.get(cfg.DATASETS.TRAIN[0]), scale=1.2)\n",
        "v = v.draw_instance_predictions(outputs9[\"instances\"].to(\"cpu\"))\n",
        "cv2_imshow(v.get_image()[:, :, ::-1])"
      ],
      "execution_count": 0,
      "outputs": []
    },
    {
      "cell_type": "code",
      "metadata": {
        "id": "h-qWPhvwJ7dN",
        "colab_type": "code",
        "colab": {}
      },
      "source": [
        "# We can use `Visualizer` to draw the predictions on the image.\n",
        "v = Visualizer(im10[:, :, ::-1], MetadataCatalog.get(cfg.DATASETS.TRAIN[0]), scale=1.2)\n",
        "v = v.draw_instance_predictions(outputs10[\"instances\"].to(\"cpu\"))\n",
        "cv2_imshow(v.get_image()[:, :, ::-1])"
      ],
      "execution_count": 0,
      "outputs": []
    },
    {
      "cell_type": "markdown",
      "metadata": {
        "id": "Xt5HQnw_x6VA",
        "colab_type": "text"
      },
      "source": [
        "# Run panoptic segmentation on a video"
      ]
    },
    {
      "cell_type": "code",
      "metadata": {
        "id": "kDMu6eKouwdu",
        "colab_type": "code",
        "colab": {}
      },
      "source": [
        "!rm video-output.mkv"
      ],
      "execution_count": 0,
      "outputs": []
    },
    {
      "cell_type": "code",
      "metadata": {
        "id": "a65jM_VFF2Hr",
        "colab_type": "code",
        "colab": {}
      },
      "source": [
        "# Install dependencies, download the video, and crop 5 seconds for processing\n",
        "!pip install youtube-dl\n",
        "!pip uninstall -y opencv-python opencv-contrib-python\n",
        "!apt install python3-opencv  # the one pre-installed have some issues\n",
        "!youtube-dl https://www.youtube.com/watch?v=KBgfbxgD22U -f 22 -o video.mp4\n",
        "!ffmpeg -i video.mp4 -t 00:02:56 -c:v copy video-clip.mp4"
      ],
      "execution_count": 0,
      "outputs": []
    },
    {
      "cell_type": "code",
      "metadata": {
        "id": "MrNv9e3-vapE",
        "colab_type": "code",
        "colab": {}
      },
      "source": [
        "# Run frame-by-frame inference demo on this video (takes 3-4 minutes)\n",
        "# Using a model trained on COCO dataset =>http://cocodataset.org/#home\n",
        "!cd detectron2_repo && python demo/demo.py --config-file configs/COCO-PanopticSegmentation/panoptic_fpn_R_101_3x.yaml --video-input ../video-clip.mp4 --confidence-threshold 0.6 --output ../video-output.mkv \\\n",
        "  --opts MODEL.WEIGHTS detectron2://COCO-PanopticSegmentation/panoptic_fpn_R_101_3x/139514519/model_final_cafdb1.pkl"
      ],
      "execution_count": 0,
      "outputs": []
    },
    {
      "cell_type": "code",
      "metadata": {
        "id": "z5qWLBmVvbBs",
        "colab_type": "code",
        "colab": {}
      },
      "source": [
        "# Download the results\n",
        "from google.colab import files\n",
        "files.download('video-output.mkv')\n",
        "#You can see the output video here => https://www.youtube.com/watch?v=kMTt5vgXQ4k&feature=youtu.be"
      ],
      "execution_count": 0,
      "outputs": []
    },
    {
      "cell_type": "code",
      "metadata": {
        "id": "81TdasNJvcGt",
        "colab_type": "code",
        "colab": {}
      },
      "source": [
        "from IPython.display import YouTubeVideo\n",
        "YouTubeVideo('kMTt5vgXQ4k')"
      ],
      "execution_count": 0,
      "outputs": []
    },
    {
      "cell_type": "code",
      "metadata": {
        "id": "wyFRj8YyaQaW",
        "colab_type": "code",
        "colab": {}
      },
      "source": [
        ""
      ],
      "execution_count": 0,
      "outputs": []
    }
  ]
}