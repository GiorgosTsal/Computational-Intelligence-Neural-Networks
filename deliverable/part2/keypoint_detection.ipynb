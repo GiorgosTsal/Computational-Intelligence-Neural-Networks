{
  "nbformat": 4,
  "nbformat_minor": 0,
  "metadata": {
    "colab": {
      "name": "keypoint_detection.ipynb",
      "provenance": [],
      "collapsed_sections": []
    },
    "kernelspec": {
      "name": "python3",
      "display_name": "Python 3"
    }
  },
  "cells": [
    {
      "cell_type": "markdown",
      "metadata": {
        "colab_type": "text",
        "id": "SSYkSDkl1OxG"
      },
      "source": [
        "# Install dependencies and detectron2"
      ]
    },
    {
      "cell_type": "code",
      "metadata": {
        "id": "vvaPxlKXi6Iu",
        "colab_type": "code",
        "colab": {}
      },
      "source": [
        "# install dependencies\n",
        "!pip install -U torch torchvision cython Pillow==6.2.2\n",
        "!pip install -U 'git+https://github.com/cocodataset/cocoapi.git#subdirectory=PythonAPI'\n",
        "import torch, torchvision\n",
        "torch.__version__\n",
        "!gcc --version\n",
        "# opencv is pre-installed on colab"
      ],
      "execution_count": 0,
      "outputs": []
    },
    {
      "cell_type": "code",
      "metadata": {
        "id": "5cz7ONP3jP71",
        "colab_type": "code",
        "colab": {}
      },
      "source": [
        "!git clone https://github.com/facebookresearch/detectron2 detectron2_repo\n",
        "!pip install -e detectron2_repo"
      ],
      "execution_count": 0,
      "outputs": []
    },
    {
      "cell_type": "markdown",
      "metadata": {
        "id": "y1zjbDJlvOrY",
        "colab_type": "text"
      },
      "source": [
        "# Import libraries"
      ]
    },
    {
      "cell_type": "code",
      "metadata": {
        "id": "lJKnN1Iejngj",
        "colab_type": "code",
        "colab": {}
      },
      "source": [
        "# You may need to restart your runtime prior to this, to let your installation take effect\n",
        "# Some basic setup\n",
        "# Setup detectron2 logger\n",
        "import detectron2\n",
        "from detectron2.utils.logger import setup_logger\n",
        "setup_logger()\n",
        "\n",
        "# import some common libraries\n",
        "import numpy as np\n",
        "import cv2\n",
        "import random\n",
        "from google.colab.patches import cv2_imshow\n",
        "\n",
        "# import some common detectron2 utilities\n",
        "from detectron2 import model_zoo\n",
        "from detectron2.engine import DefaultPredictor\n",
        "from detectron2.config import get_cfg\n",
        "from detectron2.utils.visualizer import Visualizer\n",
        "from detectron2.data import MetadataCatalog"
      ],
      "execution_count": 0,
      "outputs": []
    },
    {
      "cell_type": "markdown",
      "metadata": {
        "id": "8-yasZRIwRD6",
        "colab_type": "text"
      },
      "source": [
        "# Download or import example images"
      ]
    },
    {
      "cell_type": "code",
      "metadata": {
        "id": "lNNOnOa0kEK8",
        "colab_type": "code",
        "colab": {}
      },
      "source": [
        "# #you can either download images or import them from mount\n",
        "\n",
        "!wget https://www.athensguide.com/shopping/ermou-street.jpg -O input.jpg\n",
        "!wget https://hips.hearstapps.com/ghk.h-cdn.co/assets/cm/15/11/54ff82234196d-jws-11-xln.jpg -O input2.jpg\n",
        "!wget https://upload.wikimedia.org/wikipedia/commons/thumb/b/b1/20160516_350_thessaloniki.jpg/1200px-20160516_350_thessaloniki.jpg -O input3.jpg\n",
        "!wget https://www.newsbeast.gr/files/1/2016/02/ortty04.jpg -O input4.jpg\n",
        "!wget https://static.advrider.com/wp-content/uploads/2019/05/6629.jpg -O input5.jpg\n",
        "!wget https://www.tovima.gr/wp-content/uploads/2019/02/01/13425058_h3350765.jpg -O input6.jpg\n",
        "!wget http://athina984.gr/wp-site/wp-content/uploads/2018/11/%CE%B5%CF%81%CE%BC%CE%BF%CF%8D-650x400.jpg -O input7.jpg\n",
        "!wget https://www.thepressroom.gr/sites/default/files/styles/article/public/field/articles/images/ermou.jpg?itok=gFbsu0pn -O input8.jpg\n",
        "!wget https://restaurant.opentable.com/news/wp-content/uploads/sites/100/2015/06/pizzaiolo_6542.jpg -O input9.jpg\n",
        "!wget https://www.roadaffair.com/wp-content/uploads/2019/03/tourists-boat-giethoorn-netherlands-shutterstock_1250302012-1024x683.jpg -O input10.jpg"
      ],
      "execution_count": 0,
      "outputs": []
    },
    {
      "cell_type": "code",
      "metadata": {
        "id": "mzmFqmbttk0s",
        "colab_type": "code",
        "colab": {}
      },
      "source": [
        "#Import them from drive\n",
        "from google.colab import drive\n",
        "drive.mount('/content/gdrive')"
      ],
      "execution_count": 0,
      "outputs": []
    },
    {
      "cell_type": "code",
      "metadata": {
        "id": "t0RHzXBytu7D",
        "colab_type": "code",
        "colab": {}
      },
      "source": [
        "#copy images folder with its files to my dir\n",
        "!cp -rf /content/gdrive/My\\ Drive/detectron2_inputs/* /content/"
      ],
      "execution_count": 0,
      "outputs": []
    },
    {
      "cell_type": "markdown",
      "metadata": {
        "id": "8ITBoTglvFL1",
        "colab_type": "text"
      },
      "source": [
        "# Read and show images"
      ]
    },
    {
      "cell_type": "code",
      "metadata": {
        "id": "LjEMa1X1w8ux",
        "colab_type": "code",
        "colab": {}
      },
      "source": [
        "im = cv2.imread(\"./input.jpg\")\n",
        "im2 = cv2.imread(\"./input2.jpg\")\n",
        "im3 = cv2.imread(\"./input3.jpg\")\n",
        "im4 = cv2.imread(\"./input4.jpg\")\n",
        "im5 = cv2.imread(\"./input5.jpg\")\n",
        "im6 = cv2.imread(\"./input6.jpg\")\n",
        "im7 = cv2.imread(\"./input7.jpg\")\n",
        "im8 = cv2.imread(\"./input8.jpg\")\n",
        "im9 = cv2.imread(\"./input9.jpg\")\n",
        "im10 = cv2.imread(\"./input10.jpg\")"
      ],
      "execution_count": 0,
      "outputs": []
    },
    {
      "cell_type": "code",
      "metadata": {
        "id": "xtGCzlsXuxoh",
        "colab_type": "code",
        "colab": {}
      },
      "source": [
        "print(\"Image 1: \\n\")\n",
        "cv2_imshow(im)\n",
        "print(\"Image 2: \\n\")\n",
        "cv2_imshow(im2)\n",
        "print(\"Image 3: \\n\")\n",
        "cv2_imshow(im3)\n",
        "print(\"Image 4: \\n\")\n",
        "cv2_imshow(im4)\n",
        "print(\"Image 5: \\n\")\n",
        "cv2_imshow(im5)\n",
        "print(\"Image 6: \\n\")\n",
        "cv2_imshow(im6)\n",
        "print(\"Image 7: \\n\")\n",
        "cv2_imshow(im7)\n",
        "print(\"Image 8: \\n\")\n",
        "cv2_imshow(im8)\n",
        "print(\"Image 9: \\n\")\n",
        "cv2_imshow(im9)\n",
        "print(\"Image 10: \\n\")\n",
        "cv2_imshow(im10)"
      ],
      "execution_count": 0,
      "outputs": []
    },
    {
      "cell_type": "markdown",
      "metadata": {
        "id": "coGj8cfrw_Xh",
        "colab_type": "text"
      },
      "source": [
        "# Run inference with a keypoint detection model"
      ]
    },
    {
      "cell_type": "code",
      "metadata": {
        "id": "Z-Y6pbB_ok5M",
        "colab_type": "code",
        "colab": {}
      },
      "source": [
        "# Inference with a keypoint detection model\n",
        "cfg = get_cfg()\n",
        "cfg.merge_from_file(model_zoo.get_config_file(\"COCO-Keypoints/keypoint_rcnn_R_50_FPN_3x.yaml\"))\n",
        "cfg.MODEL.ROI_HEADS.SCORE_THRESH_TEST = 0.7  # set threshold for this model\n",
        "cfg.MODEL.WEIGHTS = \"detectron2://COCO-Keypoints/keypoint_rcnn_R_50_FPN_3x/137849621/model_final_a6e10b.pkl\"\n",
        "predictor = DefaultPredictor(cfg)\n",
        "outputs = predictor(im)\n",
        "outputs2 = predictor(im2)\n",
        "outputs3 = predictor(im3)\n",
        "outputs4 = predictor(im4)\n",
        "outputs5 = predictor(im5)\n",
        "outputs6 = predictor(im6)\n",
        "outputs7 = predictor(im7)\n",
        "outputs8 = predictor(im8)\n",
        "outputs9 = predictor(im9)\n",
        "outputs10 = predictor(im10)"
      ],
      "execution_count": 0,
      "outputs": []
    },
    {
      "cell_type": "markdown",
      "metadata": {
        "id": "nqax5D13xHKp",
        "colab_type": "text"
      },
      "source": [
        "# Visualize keypoint detection model results"
      ]
    },
    {
      "cell_type": "code",
      "metadata": {
        "id": "Cu1ZJ_TYxGQO",
        "colab_type": "code",
        "colab": {}
      },
      "source": [
        "v = Visualizer(im[:,:,::-1], MetadataCatalog.get(cfg.DATASETS.TRAIN[0]), scale=1.2)\n",
        "v = v.draw_instance_predictions(outputs[\"instances\"].to(\"cpu\"))\n",
        "cv2_imshow(v.get_image()[:, :, ::-1])"
      ],
      "execution_count": 0,
      "outputs": []
    },
    {
      "cell_type": "code",
      "metadata": {
        "id": "Z5w1asOxMDsy",
        "colab_type": "code",
        "colab": {}
      },
      "source": [
        "v = Visualizer(im3[:,:,::-1], MetadataCatalog.get(cfg.DATASETS.TRAIN[0]), scale=1.2)\n",
        "v = v.draw_instance_predictions(outputs3[\"instances\"].to(\"cpu\"))\n",
        "cv2_imshow(v.get_image()[:, :, ::-1])"
      ],
      "execution_count": 0,
      "outputs": []
    },
    {
      "cell_type": "code",
      "metadata": {
        "id": "VxSs-LMXMDn1",
        "colab_type": "code",
        "colab": {}
      },
      "source": [
        "v = Visualizer(im4[:,:,::-1], MetadataCatalog.get(cfg.DATASETS.TRAIN[0]), scale=1.2)\n",
        "v = v.draw_instance_predictions(outputs4[\"instances\"].to(\"cpu\"))\n",
        "cv2_imshow(v.get_image()[:, :, ::-1])"
      ],
      "execution_count": 0,
      "outputs": []
    },
    {
      "cell_type": "code",
      "metadata": {
        "id": "Ux5vgxAhMDXX",
        "colab_type": "code",
        "colab": {}
      },
      "source": [
        "v = Visualizer(im7[:,:,::-1], MetadataCatalog.get(cfg.DATASETS.TRAIN[0]), scale=1.2)\n",
        "v = v.draw_instance_predictions(outputs7[\"instances\"].to(\"cpu\"))\n",
        "cv2_imshow(v.get_image()[:, :, ::-1])"
      ],
      "execution_count": 0,
      "outputs": []
    },
    {
      "cell_type": "code",
      "metadata": {
        "id": "_DZxtuUpMDQ2",
        "colab_type": "code",
        "colab": {}
      },
      "source": [
        "v = Visualizer(im8[:,:,::-1], MetadataCatalog.get(cfg.DATASETS.TRAIN[0]), scale=1.2)\n",
        "v = v.draw_instance_predictions(outputs8[\"instances\"].to(\"cpu\"))\n",
        "cv2_imshow(v.get_image()[:, :, ::-1])"
      ],
      "execution_count": 0,
      "outputs": []
    },
    {
      "cell_type": "code",
      "metadata": {
        "id": "OBkAKaocMDKV",
        "colab_type": "code",
        "colab": {}
      },
      "source": [
        "v = Visualizer(im9[:,:,::-1], MetadataCatalog.get(cfg.DATASETS.TRAIN[0]), scale=1.2)\n",
        "v = v.draw_instance_predictions(outputs9[\"instances\"].to(\"cpu\"))\n",
        "cv2_imshow(v.get_image()[:, :, ::-1])"
      ],
      "execution_count": 0,
      "outputs": []
    },
    {
      "cell_type": "code",
      "metadata": {
        "id": "wTwei9HqMDCG",
        "colab_type": "code",
        "colab": {}
      },
      "source": [
        "v = Visualizer(im10[:,:,::-1], MetadataCatalog.get(cfg.DATASETS.TRAIN[0]), scale=1.2)\n",
        "v = v.draw_instance_predictions(outputs10[\"instances\"].to(\"cpu\"))\n",
        "cv2_imshow(v.get_image()[:, :, ::-1])"
      ],
      "execution_count": 0,
      "outputs": []
    }
  ]
}